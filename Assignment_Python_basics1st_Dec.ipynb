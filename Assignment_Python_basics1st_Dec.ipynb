{
  "nbformat": 4,
  "nbformat_minor": 0,
  "metadata": {
    "colab": {
      "provenance": []
    },
    "kernelspec": {
      "name": "python3",
      "display_name": "Python 3"
    },
    "language_info": {
      "name": "python"
    }
  },
  "cells": [
    {
      "cell_type": "markdown",
      "source": [
        "# ***Python Basics -/ Assignment Questions -/ Python Basics Questions***\n",
        "\n",
        "\n",
        "\n",
        "# **1.What is Python, and why is it popular**\n",
        "\n",
        "- Python is a high-level programming language. It is object oriented  and functional programming. Python has huge number of libries, applicability in fields like web development, data science, AI, and automation It is syntexes are user friednly.\n",
        "\n",
        "# **2.What is an interpreter in Python**\n",
        "- An interpreter in Python is a program that executes Python code line by line,converting the code,that the computer can understand.its doesn't use compilers.\n",
        "\n",
        "# **3.What are pre-defined keywords in Python**\n",
        "- Pre-defined keywords are reserved words that have a specific purpose in python language. They cannot be used as variable names, function names, or identifiers. Examples:if, elif, else, and, break etc.\n",
        "\n",
        "# **4.Can keywords be used as variable names**\n",
        "- No, keywords cannot be used as variable names in Python\n",
        "\n",
        "# **5.What is mutability in Python**\n",
        "- Mutability in Python refers to whether an object’s value can be changed after it is created. Example: List, disctionary,set.\n",
        "\n",
        "# **6.Why are lists mutable, but tuples are immutable**\n",
        "- List: It's desinged for scenarios and used cases where data needs to change/updated frequently. Example: Sales figure which needs to be updated frequently.\n",
        "- Tuple: it is used for 'Static data' used case scenarion: Example: Cordinates, password storage etc.\n",
        "\n",
        "# **7.What is the difference between “==” and “is” operators in Python**\n",
        "- '==': Compares the values of two objects to see if they are the same. It checks the equality.\n",
        "- 'is' checks the memory object, if they refer the same object.\n",
        "\n",
        "# **8.What are logical operators in Python**\n",
        "- Logical operators in Python are used to combine conditional statements and evaluate expressions for truth values (True or False). Ex: and , or,not\n",
        "\n",
        "# **9.What is type casting in Python**\n",
        "- Type casting in Python is converting one data type into another, like integers to strings or floats to integers.Ex: num=2 , print(str(3)), output = \"3\"\n",
        "\n",
        "# **10.What is the difference between implicit and explicit type casting**\n",
        "- *Implicit Casting*: Python automatically converts types during operations.Example: result = 10 + 2.5 # 10 (int) is implicitly converted to 10.0 (float).\n",
        "*Explicit Casting*: The programmer manually converts types using functions.\n",
        "Example: result = int(2.9) # Explicitly converts 2.9 (float) to 2 (int).\n",
        "\n",
        "# **11.What is the purpose of conditional statements in Python**\n",
        "-Conditional statements in Python control the flow of a program, based on specified conditions.Ex: Keywords if, else, elif.\n",
        "\n",
        "# **12.How does the elif statement work**\n",
        "- 'elif' statement checks additional condition after an 'if' statement.Python evaluates elif; if it's True, its block runs.\n",
        "if x > 0:  \n",
        "    print(\"Positive\")  \n",
        "elif x == 0:  \n",
        "    print(\"Zero\")\n",
        "\n",
        "# **13.What is the difference between for and while loops**\n",
        "- /*FOR LOOP*/ - terates over a sequence (e.g., list, range) for a fixed number of steps.Ex: for i in range(5): print(i), output: 0,1,2,3,4\n",
        "/*While Loop*/-Repeats as long as a condition is True.Ex: while x < 5: print(x); x += 1 # Runs until x >= 5,output: 0,1,2,3,4\n",
        "\n",
        "# **14.Describe a scenario where a while loop is more suitable than a for loop.**\n",
        "- The current stock price of ABC is $100, and the investor's target price is $150. The program can use a while loop to monitor the stock price in real-time. The loop will keep running as long as the stock price is below $150. Once the price reaches or exceeds $150, the loop ends, and the investor can proceed with the trade.\n"
      ],
      "metadata": {
        "id": "59uGIdSLHNWE"
      }
    },
    {
      "cell_type": "code",
      "source": [
        "# Practical Questions\n",
        "# 1.Write a Python program to print \"Hello, World!\n",
        "greetings=\"Hello, World!\"\n",
        "print(greetings)"
      ],
      "metadata": {
        "colab": {
          "base_uri": "https://localhost:8080/"
        },
        "id": "gZwZq4Bxs-PH",
        "outputId": "9a7a3094-7d91-4ed0-8a2a-0d2af14d63df"
      },
      "execution_count": null,
      "outputs": [
        {
          "output_type": "stream",
          "name": "stdout",
          "text": [
            "Hello, World!\n"
          ]
        }
      ]
    },
    {
      "cell_type": "code",
      "source": [
        "#2.Write a Python program that displays your name and age\n",
        "my_name=\"Arijit Roy\"\n",
        "my_age=38\n",
        "print(f\"My name is {my_name}, age is {my_age}\")"
      ],
      "metadata": {
        "colab": {
          "base_uri": "https://localhost:8080/"
        },
        "id": "JFAotdgCv029",
        "outputId": "181c13e1-23be-4854-f5cf-3edd39d86a93"
      },
      "execution_count": null,
      "outputs": [
        {
          "output_type": "stream",
          "name": "stdout",
          "text": [
            "My name is Arijit Roy, age is 38\n"
          ]
        }
      ]
    },
    {
      "cell_type": "code",
      "source": [
        "#3.Write code to print all the pre-defined keywords in Python using the keyword library\n",
        "import keyword\n",
        "print(keyword.kwlist)\n"
      ],
      "metadata": {
        "colab": {
          "base_uri": "https://localhost:8080/"
        },
        "id": "PJHItWq75121",
        "outputId": "b5f28cf8-1f5d-4093-99ac-5504e84289e5"
      },
      "execution_count": null,
      "outputs": [
        {
          "output_type": "stream",
          "name": "stdout",
          "text": [
            "['False', 'None', 'True', 'and', 'as', 'assert', 'async', 'await', 'break', 'class', 'continue', 'def', 'del', 'elif', 'else', 'except', 'finally', 'for', 'from', 'global', 'if', 'import', 'in', 'is', 'lambda', 'nonlocal', 'not', 'or', 'pass', 'raise', 'return', 'try', 'while', 'with', 'yield']\n"
          ]
        }
      ]
    },
    {
      "cell_type": "code",
      "source": [
        "#4.Write a program that checks if a given word is a Python keyword\n",
        "import keyword\n",
        "\n",
        "word = input(\"Enter a word to check if it's a Python keyword: \")\n",
        "\n",
        "if keyword.iskeyword(word):\n",
        "    print(f\"'{word}' is a Python keyword.\")\n",
        "else:\n",
        "    print(f\"'{word}' is not a Python keyword.\")\n"
      ],
      "metadata": {
        "colab": {
          "base_uri": "https://localhost:8080/"
        },
        "id": "ZjohsDEa9A8b",
        "outputId": "16ad9451-39b3-42e4-9862-4f0bdbd97ab1"
      },
      "execution_count": null,
      "outputs": [
        {
          "output_type": "stream",
          "name": "stdout",
          "text": [
            "Enter a word to check if it's a Python keyword: hg\n",
            "'hg' is not a Python keyword.\n"
          ]
        }
      ]
    },
    {
      "cell_type": "code",
      "source": [
        "#5. Create a list and tuple in Python, and demonstrate how attempting to change an element works differently for each\n",
        "\n",
        "my_list=[5,\"AK\",67,\"09\"]\n",
        "my_tuple=(10,20,30,40)\n",
        "\n",
        "my_list.append(10)\n",
        "print(my_list)\n",
        "\n",
        "my_tuple[1]=300 # Error handling is not covered ,so can't write the perfect code\n",
        "\n",
        "print(my_tuple)"
      ],
      "metadata": {
        "colab": {
          "base_uri": "https://localhost:8080/",
          "height": 228
        },
        "id": "sR6vaBAF9Qo4",
        "outputId": "d9775d87-b4ec-4790-a960-d19dd99f8f44"
      },
      "execution_count": null,
      "outputs": [
        {
          "output_type": "stream",
          "name": "stdout",
          "text": [
            "[5, 'AK', 67, '09', 10]\n"
          ]
        },
        {
          "output_type": "error",
          "ename": "TypeError",
          "evalue": "'tuple' object does not support item assignment",
          "traceback": [
            "\u001b[0;31m---------------------------------------------------------------------------\u001b[0m",
            "\u001b[0;31mTypeError\u001b[0m                                 Traceback (most recent call last)",
            "\u001b[0;32m<ipython-input-13-76cfec468840>\u001b[0m in \u001b[0;36m<cell line: 9>\u001b[0;34m()\u001b[0m\n\u001b[1;32m      7\u001b[0m \u001b[0mprint\u001b[0m\u001b[0;34m(\u001b[0m\u001b[0mmy_list\u001b[0m\u001b[0;34m)\u001b[0m\u001b[0;34m\u001b[0m\u001b[0;34m\u001b[0m\u001b[0m\n\u001b[1;32m      8\u001b[0m \u001b[0;34m\u001b[0m\u001b[0m\n\u001b[0;32m----> 9\u001b[0;31m \u001b[0mmy_tuple\u001b[0m\u001b[0;34m[\u001b[0m\u001b[0;36m1\u001b[0m\u001b[0;34m]\u001b[0m\u001b[0;34m=\u001b[0m\u001b[0;36m300\u001b[0m\u001b[0;34m\u001b[0m\u001b[0;34m\u001b[0m\u001b[0m\n\u001b[0m\u001b[1;32m     10\u001b[0m \u001b[0;34m\u001b[0m\u001b[0m\n\u001b[1;32m     11\u001b[0m \u001b[0mprint\u001b[0m\u001b[0;34m(\u001b[0m\u001b[0mmy_tuple\u001b[0m\u001b[0;34m)\u001b[0m\u001b[0;34m\u001b[0m\u001b[0;34m\u001b[0m\u001b[0m\n",
            "\u001b[0;31mTypeError\u001b[0m: 'tuple' object does not support item assignment"
          ]
        }
      ]
    },
    {
      "cell_type": "code",
      "source": [
        "#6. Write a function to demonstrate the behavior of mutable and immutable arguments\n",
        "\n",
        "def list_behaviour(list):\n",
        "  list.append(20)\n",
        "  print(list)\n",
        "list_behaviour([1,2,3])\n",
        "\n",
        "def tuple_behaviour(tuple):\n",
        "  tuple.append(10)\n",
        "  print(tuple)\n",
        "tuple_behaviour() # Error handling is not covered ,so can't write the perfect code\n"
      ],
      "metadata": {
        "colab": {
          "base_uri": "https://localhost:8080/",
          "height": 193
        },
        "id": "QvtQgCQR-zX4",
        "outputId": "1f36e34f-87a4-42a1-b29d-7f5f3c05d728"
      },
      "execution_count": null,
      "outputs": [
        {
          "output_type": "stream",
          "name": "stdout",
          "text": [
            "[1, 2, 3, 20]\n"
          ]
        },
        {
          "output_type": "error",
          "ename": "TypeError",
          "evalue": "tuple_behaviour() missing 1 required positional argument: 'tuple'",
          "traceback": [
            "\u001b[0;31m---------------------------------------------------------------------------\u001b[0m",
            "\u001b[0;31mTypeError\u001b[0m                                 Traceback (most recent call last)",
            "\u001b[0;32m<ipython-input-14-bacc45ff48e5>\u001b[0m in \u001b[0;36m<cell line: 11>\u001b[0;34m()\u001b[0m\n\u001b[1;32m      9\u001b[0m   \u001b[0mtuple\u001b[0m\u001b[0;34m.\u001b[0m\u001b[0mappend\u001b[0m\u001b[0;34m(\u001b[0m\u001b[0;36m10\u001b[0m\u001b[0;34m)\u001b[0m\u001b[0;34m\u001b[0m\u001b[0;34m\u001b[0m\u001b[0m\n\u001b[1;32m     10\u001b[0m   \u001b[0mprint\u001b[0m\u001b[0;34m(\u001b[0m\u001b[0mtuple\u001b[0m\u001b[0;34m)\u001b[0m\u001b[0;34m\u001b[0m\u001b[0;34m\u001b[0m\u001b[0m\n\u001b[0;32m---> 11\u001b[0;31m \u001b[0mtuple_behaviour\u001b[0m\u001b[0;34m(\u001b[0m\u001b[0;34m)\u001b[0m \u001b[0;31m# Error handling is not covered ,so can't write the perfect code\u001b[0m\u001b[0;34m\u001b[0m\u001b[0;34m\u001b[0m\u001b[0m\n\u001b[0m",
            "\u001b[0;31mTypeError\u001b[0m: tuple_behaviour() missing 1 required positional argument: 'tuple'"
          ]
        }
      ]
    },
    {
      "cell_type": "code",
      "source": [
        "#7.  Write a function to demonstrate the behavior of mutable and immutable arguments\n",
        "\n",
        "'''same question as question no 6'''"
      ],
      "metadata": {
        "id": "6K_16M_wGZrp"
      },
      "execution_count": null,
      "outputs": []
    },
    {
      "cell_type": "code",
      "source": [
        "#8.Write a program to demonstrate the use of logical operators\n",
        "\n",
        "x=6\n",
        "y=12\n",
        "\n",
        "if (x>4) and (y>10):\n",
        "  print(\"Both are greater\")\n",
        "else:\n",
        "  print(\"small number\")"
      ],
      "metadata": {
        "colab": {
          "base_uri": "https://localhost:8080/"
        },
        "id": "DZmUGVxJGq3A",
        "outputId": "3f73a9b2-2b1b-4e1d-8a92-09146b837b28"
      },
      "execution_count": null,
      "outputs": [
        {
          "output_type": "stream",
          "name": "stdout",
          "text": [
            "Both are greater\n"
          ]
        }
      ]
    },
    {
      "cell_type": "code",
      "source": [
        "#9.Write a Python program to convert user input from string to integer, float, and boolean type\n",
        "\n",
        "userinput_num=input(\"Enter the Numerical value: \")\n",
        "userinput_string=input(\"Enter string value only: \")\n",
        "userinput_boolean=input('''Enter \"true\" or \"false\": ''')\n",
        "\n",
        "print(int(userinput_num),userinput_string,bool(userinput_boolean))"
      ],
      "metadata": {
        "colab": {
          "base_uri": "https://localhost:8080/"
        },
        "id": "EN5eRKTSJPfv",
        "outputId": "df0e3971-4ee0-44fb-b886-40adc49a5e6c"
      },
      "execution_count": null,
      "outputs": [
        {
          "output_type": "stream",
          "name": "stdout",
          "text": [
            "Enter the Numerical value: 7\n",
            "Enter string value only: Tyyuu\n",
            "Enter \"true\" or \"false\": true\n",
            "7 Tyyuu True\n"
          ]
        }
      ]
    },
    {
      "cell_type": "code",
      "source": [
        "#10. Write code to demonstrate type casting with list elements\n",
        "\n",
        "x=25\n",
        "y=\"Ajay\"\n",
        "z=[8,9,4]\n",
        "\n",
        "my_list=list[x,y,z]\n",
        "print(my_list)"
      ],
      "metadata": {
        "colab": {
          "base_uri": "https://localhost:8080/"
        },
        "id": "H7F7QnW8xRWK",
        "outputId": "2ca9a55b-4bc7-4fad-af27-2bb0914641e1"
      },
      "execution_count": null,
      "outputs": [
        {
          "output_type": "stream",
          "name": "stdout",
          "text": [
            "list[25, 'Ajay', [8, 9, 4]]\n"
          ]
        }
      ]
    },
    {
      "cell_type": "code",
      "source": [
        "#11.Write a program that checks if a number is positive, negative, or zero\n",
        "\n",
        "x=-35\n",
        "\n",
        "if x>0:\n",
        "  print(\"Number is positive\")\n",
        "elif x==0:\n",
        "  print(\"numbe ris zero\")\n",
        "else:\n",
        "  print(\"Number is negetive\")"
      ],
      "metadata": {
        "colab": {
          "base_uri": "https://localhost:8080/"
        },
        "id": "Q5vSHXeQxwAC",
        "outputId": "800d657d-1988-4516-c8a0-1cbef75d7d99"
      },
      "execution_count": null,
      "outputs": [
        {
          "output_type": "stream",
          "name": "stdout",
          "text": [
            "Number is negetive\n"
          ]
        }
      ]
    },
    {
      "cell_type": "code",
      "source": [
        "#12. Write a for loop to print numbers from 1 to 10\n",
        "\n",
        "for num in range(1,11):\n",
        "  print(num)"
      ],
      "metadata": {
        "colab": {
          "base_uri": "https://localhost:8080/"
        },
        "id": "6EiDLjeMyKmr",
        "outputId": "e7fb0d66-ab88-48b1-d865-94026b86f02c"
      },
      "execution_count": null,
      "outputs": [
        {
          "output_type": "stream",
          "name": "stdout",
          "text": [
            "1\n",
            "2\n",
            "3\n",
            "4\n",
            "5\n",
            "6\n",
            "7\n",
            "8\n",
            "9\n",
            "10\n"
          ]
        }
      ]
    },
    {
      "cell_type": "code",
      "source": [
        "#13.Write a Python program to find the sum of all even numbers between 0 and 50\n",
        "total_sum = 0\n",
        "for num in range(1,51):\n",
        "  if num%2==0:\n",
        "    # print(num)\n",
        "    total_sum =num+total_sum\n",
        "    print(total_sum)"
      ],
      "metadata": {
        "colab": {
          "base_uri": "https://localhost:8080/"
        },
        "id": "CNsGY-JIyk-p",
        "outputId": "93f31466-bb7f-4d84-8645-fc2057bb9815"
      },
      "execution_count": null,
      "outputs": [
        {
          "output_type": "stream",
          "name": "stdout",
          "text": [
            "2\n",
            "6\n",
            "12\n",
            "20\n",
            "30\n",
            "42\n",
            "56\n",
            "72\n",
            "90\n",
            "110\n",
            "132\n",
            "156\n",
            "182\n",
            "210\n",
            "240\n",
            "272\n",
            "306\n",
            "342\n",
            "380\n",
            "420\n",
            "462\n",
            "506\n",
            "552\n",
            "600\n",
            "650\n"
          ]
        }
      ]
    },
    {
      "cell_type": "code",
      "source": [
        "#14. Write a program to reverse a string using a while loop\n",
        "\n",
        "my_string=\"Python\"\n",
        "reverse_string=\"\"\n",
        "\n",
        "index=len(my_string)-1\n",
        "\n",
        "while index>=0:\n",
        "  reverse_string+= my_string[index]\n",
        "  index -= 1\n",
        "print(reverse_string)"
      ],
      "metadata": {
        "colab": {
          "base_uri": "https://localhost:8080/"
        },
        "id": "S9GHH9YW6ae6",
        "outputId": "d76af328-ce37-4fdb-b20e-7558686a372e"
      },
      "execution_count": null,
      "outputs": [
        {
          "output_type": "stream",
          "name": "stdout",
          "text": [
            "nohtyP\n"
          ]
        }
      ]
    },
    {
      "cell_type": "code",
      "source": [
        "# Write a Python program to calculate the factorial of a number provided by the user using a while loop.\n",
        "num = int(input(\"Enter a number to calculate its factorial: \"))\n",
        "factorial = 1\n",
        "while num > 0:\n",
        "    factorial *= num\n",
        "    num -= 1\n",
        "print(\"The factorial is:\", factorial)\n"
      ],
      "metadata": {
        "colab": {
          "base_uri": "https://localhost:8080/"
        },
        "id": "rDr6jLCL-yjH",
        "outputId": "d47bc374-498d-4788-f1aa-33fb9a9f416d"
      },
      "execution_count": null,
      "outputs": [
        {
          "output_type": "stream",
          "name": "stdout",
          "text": [
            "Enter a number to calculate its factorial: 4\n",
            "The factorial is: 24\n"
          ]
        }
      ]
    }
  ]
}